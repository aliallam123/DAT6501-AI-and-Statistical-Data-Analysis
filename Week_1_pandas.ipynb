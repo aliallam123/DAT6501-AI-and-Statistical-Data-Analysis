{
 "cells": [
  {
   "cell_type": "markdown",
   "metadata": {
    "id": "5J1plNcv_i54"
   },
   "source": [
    "# Week 1 - Pandas\n",
    "\n"
   ]
  },
  {
   "cell_type": "markdown",
   "metadata": {
    "id": "tc3zg2bxAFuq"
   },
   "source": [
    "<hr style=\"border:2px solid gray\">\n",
    "\n",
    "## Index: <a id='index'></a>\n",
    "1. [Introduction to Pandas](#pandas)\n",
    "1. [Creating a DataFrame](#create)\n",
    "1. [Manipulating DataFrames](#manipulate)\n",
    "1. [Displaying Data](#display)\n",
    "1. [Reading Data from Files](#files)"
   ]
  },
  {
   "cell_type": "markdown",
   "metadata": {
    "id": "jQ3xo0R1AAKJ"
   },
   "source": [
    "<hr style=\"border:2px solid gray\">\n",
    "\n",
    "## Section 1: Introduction to Pandas  [^](#index) <a id='pandas'></a>\n",
    "\n",
    "**Pandas** is a Python library that can be used within a Jupyter notebook to easily manipulate and analise data. With Pandas, you can read in data from various sources, such as CSV files, SQL tables, or Excel spreadsheets, and then perform operations on that data, such as filtering, sorting, grouping, and aggregating. You can also visualize your data using built-in plotting functions. Pandas provides a convenient and efficient way to work with data in Jupyter notebooks, making it a popular choice for data analysis and data science projects.\n",
    "\n",
    "Pandas offers two powerful data structures for data analysis: **Series** and **DataFrames**. While they may seem similar at first glance, their key differences dictate when to use one over the other. Here's a breakdown:\n",
    "\n",
    "**Dimensions**\n",
    " - **Series:** A one-dimensional (1D) array representing a single column of data with an index for labeling observations.\n",
    " - **DataFrame:** A two-dimensional (2D) table-like structure holding multiple columns (Series) with their own labels and an optional row index (like a spreadsheet).\n",
    "\n",
    "**Data Types**\n",
    " - **Series:** Holds data of one type (e.g., all integers, all strings).\n",
    " - **DataFrame:** Can hold columns of different data types (e.g., one column for dates, another for names, another for prices).\n",
    "\n",
    "**Functionality**\n",
    " - **Series:** Efficient for analyzing single columns, performing basic operations like sorting, filtering, and calculations.\n",
    " - **DataFrame:** Powerful for multi-column analysis, including data merging, joins, grouping, and more complex manipulations across multiple columns.\n",
    "\n",
    "**Use Cases**\n",
    " - **Series:** Ideal for storing timestamps, temperature readings, stock prices, etc. Useful for data exploration, pre-processing, and analyzing trends in one variable.\n",
    " - **DataFrame:** Perfect for representing customer data, financial records, scientific measurements, etc. Suitable for comprehensive analysis, hypothesis testing, and building statistical models involving multiple variables.\n",
    "\n",
    "**Analogy:** Imagine a bookshelf. A Series is like a single book containing one story - informative but limited. A DataFrame is like an entire shelf storing various books on different topics - each book (Series) offers specific information, but together they paint a larger picture and allow for diverse analysis.\n",
    "\n",
    "Choosing between Series and DataFrames depends on your data structure and analysis needs. While knowing the difference between the two is important, we will most often use **DataFrames**.\n",
    "\n",
    "For more exercises and tutorials on Pandas:\n",
    " - https://pandas.pydata.org/docs/user_guide/index.html#user-guide"
   ]
  },
  {
   "cell_type": "markdown",
   "metadata": {
    "id": "PtJiv6RfCR76"
   },
   "source": [
    "<hr style=\"border:2px solid gray\">\n",
    "\n",
    "## Section 2: Creating a DataFrame  [^](#index) <a id='create'></a>\n",
    "\n",
    "A DataFrame is a 2D data structure that is composed of the following components:\n",
    "- 1) The data\n",
    "- 2) The index\n",
    "    - This is the row number of the DataFrame\n",
    "- 3) The columns\n",
    "    - Contains the data taken at each index, labelled with headers\n",
    "\n",
    "The information at the 'top' of the DataFrame contains are known as **headers**. These allow you to access your data without needing to use indices. The cell below shows two equivalent ways to create a DataFrame."
   ]
  },
  {
   "cell_type": "code",
   "execution_count": 22,
   "metadata": {
    "colab": {
     "base_uri": "https://localhost:8080/",
     "height": 237
    },
    "executionInfo": {
     "elapsed": 458,
     "status": "ok",
     "timestamp": 1704816135853,
     "user": {
      "displayName": "Linda Cremonesi",
      "userId": "14767435952218470727"
     },
     "user_tz": 0
    },
    "id": "JJOIf433_SkT",
    "outputId": "6b01d922-f909-4fb3-a57c-ba45f2060ada"
   },
   "outputs": [
    {
     "data": {
      "text/html": [
       "<div>\n",
       "<style scoped>\n",
       "    .dataframe tbody tr th:only-of-type {\n",
       "        vertical-align: middle;\n",
       "    }\n",
       "\n",
       "    .dataframe tbody tr th {\n",
       "        vertical-align: top;\n",
       "    }\n",
       "\n",
       "    .dataframe thead th {\n",
       "        text-align: right;\n",
       "    }\n",
       "</style>\n",
       "<table border=\"1\" class=\"dataframe\">\n",
       "  <thead>\n",
       "    <tr style=\"text-align: right;\">\n",
       "      <th></th>\n",
       "      <th>Name</th>\n",
       "      <th>Location</th>\n",
       "      <th>Age</th>\n",
       "    </tr>\n",
       "  </thead>\n",
       "  <tbody>\n",
       "    <tr>\n",
       "      <th>0</th>\n",
       "      <td>Anisha</td>\n",
       "      <td>London</td>\n",
       "      <td>38</td>\n",
       "    </tr>\n",
       "    <tr>\n",
       "      <th>1</th>\n",
       "      <td>Alice</td>\n",
       "      <td>Amsterdam</td>\n",
       "      <td>20</td>\n",
       "    </tr>\n",
       "    <tr>\n",
       "      <th>2</th>\n",
       "      <td>Jenni</td>\n",
       "      <td>Glasgow</td>\n",
       "      <td>27</td>\n",
       "    </tr>\n",
       "    <tr>\n",
       "      <th>3</th>\n",
       "      <td>Mei</td>\n",
       "      <td>Sao Paulo</td>\n",
       "      <td>55</td>\n",
       "    </tr>\n",
       "    <tr>\n",
       "      <th>4</th>\n",
       "      <td>Tahnee</td>\n",
       "      <td>Vancouver</td>\n",
       "      <td>71</td>\n",
       "    </tr>\n",
       "    <tr>\n",
       "      <th>5</th>\n",
       "      <td>Nina</td>\n",
       "      <td>Abuja</td>\n",
       "      <td>13</td>\n",
       "    </tr>\n",
       "  </tbody>\n",
       "</table>\n",
       "</div>"
      ],
      "text/plain": [
       "     Name   Location  Age\n",
       "0  Anisha     London   38\n",
       "1   Alice  Amsterdam   20\n",
       "2   Jenni    Glasgow   27\n",
       "3     Mei  Sao Paulo   55\n",
       "4  Tahnee  Vancouver   71\n",
       "5    Nina      Abuja   13"
      ]
     },
     "metadata": {},
     "output_type": "display_data"
    }
   ],
   "source": [
    "import pandas as pd\n",
    "\n",
    "# Create a simple dataset of people\n",
    "\n",
    "data={'Name':[\"Anisha\",\"Alice\",\"Jenni\", \"Mei\",\"Tahnee\", \"Nina\"],\n",
    "     'Location':[\"London\",\"Amsterdam\",\"Glasgow\", \"Sao Paulo\",\"Vancouver\", \"Abuja\"],\n",
    "     'Age':[38,20,27,55,71,13]}\n",
    "\n",
    "data_pandas=pd.DataFrame(data)\n",
    "\n",
    "display(data_pandas)\n"
   ]
  },
  {
   "cell_type": "markdown",
   "metadata": {
    "id": "6Psi3fGN_GNu"
   },
   "source": [
    "The first column is the **index**, and you can be used to specify the data you want to display."
   ]
  },
  {
   "cell_type": "code",
   "execution_count": 2,
   "metadata": {
    "colab": {
     "base_uri": "https://localhost:8080/",
     "height": 112
    },
    "executionInfo": {
     "elapsed": 29,
     "status": "ok",
     "timestamp": 1704816136236,
     "user": {
      "displayName": "Linda Cremonesi",
      "userId": "14767435952218470727"
     },
     "user_tz": 0
    },
    "id": "3PrYahug_GNu",
    "outputId": "ddae7ed6-6fe6-4147-eae3-ab1a9ecb2b95"
   },
   "outputs": [
    {
     "data": {
      "text/html": [
       "<div>\n",
       "<style scoped>\n",
       "    .dataframe tbody tr th:only-of-type {\n",
       "        vertical-align: middle;\n",
       "    }\n",
       "\n",
       "    .dataframe tbody tr th {\n",
       "        vertical-align: top;\n",
       "    }\n",
       "\n",
       "    .dataframe thead th {\n",
       "        text-align: right;\n",
       "    }\n",
       "</style>\n",
       "<table border=\"1\" class=\"dataframe\">\n",
       "  <thead>\n",
       "    <tr style=\"text-align: right;\">\n",
       "      <th></th>\n",
       "      <th>Name</th>\n",
       "      <th>Location</th>\n",
       "      <th>Age</th>\n",
       "    </tr>\n",
       "  </thead>\n",
       "  <tbody>\n",
       "    <tr>\n",
       "      <th>2</th>\n",
       "      <td>Jenni</td>\n",
       "      <td>Glasgow</td>\n",
       "      <td>27</td>\n",
       "    </tr>\n",
       "    <tr>\n",
       "      <th>3</th>\n",
       "      <td>Mei</td>\n",
       "      <td>Sao Paulo</td>\n",
       "      <td>55</td>\n",
       "    </tr>\n",
       "  </tbody>\n",
       "</table>\n",
       "</div>"
      ],
      "text/plain": [
       "    Name   Location  Age\n",
       "2  Jenni    Glasgow   27\n",
       "3    Mei  Sao Paulo   55"
      ]
     },
     "metadata": {},
     "output_type": "display_data"
    }
   ],
   "source": [
    "display(data_pandas[2:4])"
   ]
  },
  {
   "cell_type": "markdown",
   "metadata": {},
   "source": [
    "**Select a column** by putting the column name in brackets, e.g. `dataframe['column']` and **display it.**"
   ]
  },
  {
   "cell_type": "code",
   "execution_count": 21,
   "metadata": {
    "colab": {
     "base_uri": "https://localhost:8080/",
     "height": 138
    },
    "executionInfo": {
     "elapsed": 27,
     "status": "ok",
     "timestamp": 1704816136236,
     "user": {
      "displayName": "Linda Cremonesi",
      "userId": "14767435952218470727"
     },
     "user_tz": 0
    },
    "id": "hAd27kTEGn9i",
    "outputId": "1f8328c1-c962-4f02-b03f-737d3fd72965"
   },
   "outputs": [
    {
     "data": {
      "text/plain": [
       "0    38\n",
       "1    20\n",
       "2    27\n",
       "3    55\n",
       "4    71\n",
       "5    13\n",
       "Name: Age, dtype: int64"
      ]
     },
     "metadata": {},
     "output_type": "display_data"
    }
   ],
   "source": [
    "# Select a column\n",
    "display(data_pandas['Age'])"
   ]
  },
  {
   "cell_type": "markdown",
   "metadata": {},
   "source": [
    "Similarly **Select a row** by using `iloc` and the row index, e.g. `iloc[1]` and **display it.**"
   ]
  },
  {
   "cell_type": "code",
   "execution_count": null,
   "metadata": {
    "colab": {
     "base_uri": "https://localhost:8080/",
     "height": 86
    },
    "executionInfo": {
     "elapsed": 26,
     "status": "ok",
     "timestamp": 1704816136236,
     "user": {
      "displayName": "Linda Cremonesi",
      "userId": "14767435952218470727"
     },
     "user_tz": 0
    },
    "id": "GbUEhm8hGqb3",
    "outputId": "59062529-828e-4c3c-91bf-16dab39a1efc"
   },
   "outputs": [],
   "source": [
    "# Select a row by index\n",
    "first_row = ...\n",
    "display(first_row)"
   ]
  },
  {
   "cell_type": "markdown",
   "metadata": {},
   "source": [
    "Similarly **Select a cell** by using `loc` and specifying both the row index and column name, e.g. `loc[1,'column name']` and **display it.**"
   ]
  },
  {
   "cell_type": "code",
   "execution_count": null,
   "metadata": {
    "colab": {
     "base_uri": "https://localhost:8080/",
     "height": 34
    },
    "executionInfo": {
     "elapsed": 26,
     "status": "ok",
     "timestamp": 1704816136236,
     "user": {
      "displayName": "Linda Cremonesi",
      "userId": "14767435952218470727"
     },
     "user_tz": 0
    },
    "id": "7hykqtTJGqGB",
    "outputId": "41dc462d-8aef-4d0b-ceff-93dbed89b316"
   },
   "outputs": [],
   "source": [
    "# Select a specific cell\n",
    "cell_value = ...\n",
    "display(cell_value)"
   ]
  },
  {
   "cell_type": "markdown",
   "metadata": {
    "id": "tkNca_jZ_GNu"
   },
   "source": [
    "To change the index to something more relevant (although this is not a particularly good example of this):"
   ]
  },
  {
   "cell_type": "code",
   "execution_count": null,
   "metadata": {
    "colab": {
     "base_uri": "https://localhost:8080/",
     "height": 143
    },
    "executionInfo": {
     "elapsed": 25,
     "status": "ok",
     "timestamp": 1704816136236,
     "user": {
      "displayName": "Linda Cremonesi",
      "userId": "14767435952218470727"
     },
     "user_tz": 0
    },
    "id": "XGYFS5qV_GNu",
    "outputId": "c74194fe-0c39-4548-8321-6a1f3a2758c0"
   },
   "outputs": [],
   "source": [
    "data_pandas=pd.DataFrame(data,index=[\"a\",\"b\",\"c\",\"d\", \"e\", \"f\"])\n",
    "display(data_pandas[\"b\":\"d\"])"
   ]
  },
  {
   "cell_type": "markdown",
   "metadata": {
    "id": "2IM_vVZQeaZb"
   },
   "source": [
    "### Adding and removing columns"
   ]
  },
  {
   "cell_type": "markdown",
   "metadata": {
    "id": "kqlktDFI_GNu"
   },
   "source": [
    "To insert a new column into the DataFrame, simply perform:"
   ]
  },
  {
   "cell_type": "code",
   "execution_count": null,
   "metadata": {
    "colab": {
     "base_uri": "https://localhost:8080/",
     "height": 237
    },
    "executionInfo": {
     "elapsed": 24,
     "status": "ok",
     "timestamp": 1704816136237,
     "user": {
      "displayName": "Linda Cremonesi",
      "userId": "14767435952218470727"
     },
     "user_tz": 0
    },
    "id": "l10xb3P3_GNu",
    "outputId": "750fa56e-b313-4e16-efd6-7bf0d8f257e5"
   },
   "outputs": [],
   "source": [
    "data_pandas[\"Pets\"]=[3,2,1,5,9,0]\n",
    "display(data_pandas)"
   ]
  },
  {
   "cell_type": "markdown",
   "metadata": {
    "id": "RNLG8cjh_GNv"
   },
   "source": [
    "You can even create columns that are functions of other columns. Pandas performs this very quickly."
   ]
  },
  {
   "cell_type": "code",
   "execution_count": null,
   "metadata": {
    "colab": {
     "base_uri": "https://localhost:8080/",
     "height": 237
    },
    "executionInfo": {
     "elapsed": 23,
     "status": "ok",
     "timestamp": 1704816136237,
     "user": {
      "displayName": "Linda Cremonesi",
      "userId": "14767435952218470727"
     },
     "user_tz": 0
    },
    "id": "WggIa_L3_GNv",
    "outputId": "3e682151-fd43-4715-b2bb-5aca2d9d811f"
   },
   "outputs": [],
   "source": [
    "data_pandas[\"Combination\"]=data_pandas.Age*data_pandas.Pets\n",
    "display(data_pandas)"
   ]
  },
  {
   "cell_type": "markdown",
   "metadata": {
    "id": "4z-fpNseIERR"
   },
   "source": [
    "`Combination` is a bit of a useless column though, so we can remove it using *drop*. One of the inputs to *drop* is which axis the operations is applied to.\n",
    "\n",
    "**Axis 0** - Axis 0 refers to the rows of a DataFrame or a Series. It is often referred to as the \"index axis\". When an operation is applied along axis 0, it means that the operation is applied to each row of the Data Frame or Series.\n",
    "\n",
    "**Axis 1** - Axis 1 refers to the columns of a DataFrame or a Series. It is often referred to as the \"column axis\". When an operation is applied along axis 1, it means that the operation is applied to each column of the Data Frame or Series."
   ]
  },
  {
   "cell_type": "markdown",
   "metadata": {},
   "source": [
    "Use the `dataframe.drop` function to **drop the `Combination` column and the `a` row. Display the result.**"
   ]
  },
  {
   "cell_type": "code",
   "execution_count": null,
   "metadata": {
    "colab": {
     "base_uri": "https://localhost:8080/",
     "height": 237
    },
    "executionInfo": {
     "elapsed": 21,
     "status": "ok",
     "timestamp": 1704816136237,
     "user": {
      "displayName": "Linda Cremonesi",
      "userId": "14767435952218470727"
     },
     "user_tz": 0
    },
    "id": "YwHljDCEID8z",
    "outputId": "88a7df0b-6e66-4cfc-b942-55a24474c889"
   },
   "outputs": [],
   "source": [
    "# Delete a column\n",
    "data_pandas = ... \n",
    "display(data_pandas)"
   ]
  },
  {
   "cell_type": "code",
   "execution_count": null,
   "metadata": {
    "colab": {
     "base_uri": "https://localhost:8080/",
     "height": 206
    },
    "executionInfo": {
     "elapsed": 441,
     "status": "ok",
     "timestamp": 1704816136658,
     "user": {
      "displayName": "Linda Cremonesi",
      "userId": "14767435952218470727"
     },
     "user_tz": 0
    },
    "id": "GdwkNCb0ID7g",
    "outputId": "daccdb27-256a-429d-d842-24b49a2874f9"
   },
   "outputs": [],
   "source": [
    "# Delete a row\n",
    "data_pandas = ...\n",
    "display(data_pandas)"
   ]
  },
  {
   "cell_type": "markdown",
   "metadata": {
    "id": "LvHbczzG_GNv"
   },
   "source": [
    "<hr style=\"border:2px solid gray\">\n",
    "\n",
    "## Section Three: Manipulating DataFrames  [^](#index) <a id='manipulate'></a>\n",
    "\n",
    "### Filtering DataFrames\n",
    "Here we are choosing to display all dogs above a given age."
   ]
  },
  {
   "cell_type": "code",
   "execution_count": null,
   "metadata": {
    "colab": {
     "base_uri": "https://localhost:8080/",
     "height": 143
    },
    "executionInfo": {
     "elapsed": 25,
     "status": "ok",
     "timestamp": 1704816136658,
     "user": {
      "displayName": "Linda Cremonesi",
      "userId": "14767435952218470727"
     },
     "user_tz": 0
    },
    "id": "Ww1O_Re5_GNv",
    "outputId": "d3036327-28a3-4280-c0b0-0f2350404870"
   },
   "outputs": [],
   "source": [
    "display(data_pandas[data_pandas.Age<30])"
   ]
  },
  {
   "cell_type": "markdown",
   "metadata": {},
   "source": [
    "You can also filter by multiple conditions using `&`. **Display** our dataset for entries with Age less than 30 and location in Amsterdam."
   ]
  },
  {
   "cell_type": "code",
   "execution_count": null,
   "metadata": {
    "colab": {
     "base_uri": "https://localhost:8080/"
    },
    "executionInfo": {
     "elapsed": 24,
     "status": "ok",
     "timestamp": 1704816136658,
     "user": {
      "displayName": "Linda Cremonesi",
      "userId": "14767435952218470727"
     },
     "user_tz": 0
    },
    "id": "bh2zu8undVUi",
    "outputId": "9a3a5d53-3c83-487b-aa51-79dd9495906d"
   },
   "outputs": [],
   "source": [
    "# Filter by multiple conditions\n",
    "filtered_df = ...\n",
    "print(filtered_df)"
   ]
  },
  {
   "cell_type": "markdown",
   "metadata": {
    "id": "QVOwm7DldvxU"
   },
   "source": [
    "### Sorting DataFrames\n",
    "Here we are sorting the data frames in descending order by age."
   ]
  },
  {
   "cell_type": "code",
   "execution_count": null,
   "metadata": {
    "colab": {
     "base_uri": "https://localhost:8080/"
    },
    "executionInfo": {
     "elapsed": 20,
     "status": "ok",
     "timestamp": 1704816136658,
     "user": {
      "displayName": "Linda Cremonesi",
      "userId": "14767435952218470727"
     },
     "user_tz": 0
    },
    "id": "J0EN2Zd_dtKb",
    "outputId": "36824d16-fefb-4088-eeab-bea1e6cdd6f6"
   },
   "outputs": [],
   "source": [
    "# Sort by a column\n",
    "sorted_df = data_pandas.sort_values(by='Age', ascending=False)\n",
    "print(sorted_df)"
   ]
  },
  {
   "cell_type": "markdown",
   "metadata": {},
   "source": [
    "You can sort by multiple columns with the same syntax, simply adding columns in the respective order to the instructions, e.g. `sort_values(by['column1', 'column2'], ascending=[True, True])`. **Sort** our dataframe by ascending order of ages and descending order on number of pets."
   ]
  },
  {
   "cell_type": "code",
   "execution_count": null,
   "metadata": {
    "colab": {
     "base_uri": "https://localhost:8080/"
    },
    "executionInfo": {
     "elapsed": 17,
     "status": "ok",
     "timestamp": 1704816136658,
     "user": {
      "displayName": "Linda Cremonesi",
      "userId": "14767435952218470727"
     },
     "user_tz": 0
    },
    "id": "up04-M1pd98K",
    "outputId": "5d4e392d-d942-44e0-e3b5-54c7047bd72c"
   },
   "outputs": [],
   "source": [
    "# Sort by multiple columns\n",
    "sorted_df = ...\n",
    "print(sorted_df)"
   ]
  },
  {
   "cell_type": "markdown",
   "metadata": {
    "id": "S5dHSOGr_GNv"
   },
   "source": [
    "### Statistical Analysis\n",
    "You can calculate things like the correlation and covariance matrices"
   ]
  },
  {
   "cell_type": "code",
   "execution_count": null,
   "metadata": {
    "colab": {
     "base_uri": "https://localhost:8080/",
     "height": 207
    },
    "executionInfo": {
     "elapsed": 16,
     "status": "ok",
     "timestamp": 1704816136659,
     "user": {
      "displayName": "Linda Cremonesi",
      "userId": "14767435952218470727"
     },
     "user_tz": 0
    },
    "id": "nI7a_b0c_GNv",
    "outputId": "d271dac4-5d56-46af-e123-efae727ee8b4"
   },
   "outputs": [],
   "source": [
    "display(data_pandas.corr(numeric_only = True))\n",
    "display(data_pandas.cov(numeric_only = True))"
   ]
  },
  {
   "cell_type": "markdown",
   "metadata": {
    "id": "4CXqngUN_GNv"
   },
   "source": [
    "<hr style=\"border:2px solid gray\">\n",
    "\n",
    "## Section Four: Displaying Data  [^](#index) <a id='display'></a>\n"
   ]
  },
  {
   "cell_type": "markdown",
   "metadata": {
    "id": "c-kn9BIj_GNw"
   },
   "source": [
    "It is possible to display your DataFrame content quite easily. Here we will cover a few common examples.\n",
    "\n",
    "### Basic plotting\n",
    "\n",
    "Two display a basic plot of our data, we can use:\n",
    "```python\n",
    "df['column name'].plot()\n",
    "```\n",
    "\n",
    "or:\n",
    "\n",
    "```python\n",
    "df.plot('x column name','y column name')\n",
    "```\n",
    "We only need to reference the name of the column, we don't need to know its index. For the first method we didn't set an x-axis; with that plotting nomenclature Pandas will use whatever the index is as an x-axis.\n",
    "\n",
    "<div style=\"background-color:#C2F5DD\">\n",
    "\n",
    "## Exercise 1\n",
    "Experiment with these methods of data plotting using our `data_pandas` DataFrame.\n"
   ]
  },
  {
   "cell_type": "code",
   "execution_count": null,
   "metadata": {
    "id": "Hokrqqvj_GNw"
   },
   "outputs": [],
   "source": []
  },
  {
   "cell_type": "markdown",
   "metadata": {
    "id": "3PJFyL80_GNw"
   },
   "source": [
    "Other useful data visualisation:\n",
    "### Histograms"
   ]
  },
  {
   "cell_type": "code",
   "execution_count": null,
   "metadata": {
    "colab": {
     "base_uri": "https://localhost:8080/",
     "height": 452
    },
    "executionInfo": {
     "elapsed": 1097,
     "status": "ok",
     "timestamp": 1704816137742,
     "user": {
      "displayName": "Linda Cremonesi",
      "userId": "14767435952218470727"
     },
     "user_tz": 0
    },
    "id": "h3kUwO_s_GNw",
    "outputId": "a0bd7993-8f0b-4b7c-dc6b-12c611487fe2"
   },
   "outputs": [],
   "source": [
    "import numpy as np\n",
    "import scipy as sp\n",
    "import pylab as pl\n",
    "\n",
    "histogram=data_pandas.hist()"
   ]
  },
  {
   "cell_type": "code",
   "execution_count": null,
   "metadata": {
    "colab": {
     "base_uri": "https://localhost:8080/",
     "height": 447
    },
    "executionInfo": {
     "elapsed": 9,
     "status": "ok",
     "timestamp": 1704816137743,
     "user": {
      "displayName": "Linda Cremonesi",
      "userId": "14767435952218470727"
     },
     "user_tz": 0
    },
    "id": "6l25l55D_GNw",
    "outputId": "f9bf6b3a-a3e9-45cf-fc34-0e76fb147a5d"
   },
   "outputs": [],
   "source": [
    "data_pandas['Pets'].plot()"
   ]
  },
  {
   "cell_type": "code",
   "execution_count": null,
   "metadata": {
    "colab": {
     "base_uri": "https://localhost:8080/",
     "height": 452
    },
    "executionInfo": {
     "elapsed": 421,
     "status": "ok",
     "timestamp": 1704816138159,
     "user": {
      "displayName": "Linda Cremonesi",
      "userId": "14767435952218470727"
     },
     "user_tz": 0
    },
    "id": "D51uloUW_GNw",
    "outputId": "6f4a9423-60b9-495c-fcb4-fd571e8d3771"
   },
   "outputs": [],
   "source": [
    "h1=data_pandas.hist(column=\"Pets\")"
   ]
  },
  {
   "cell_type": "markdown",
   "metadata": {},
   "source": [
    "**Plot** a histogram of the column pets for anyone aged 20 and above."
   ]
  },
  {
   "cell_type": "code",
   "execution_count": null,
   "metadata": {
    "colab": {
     "base_uri": "https://localhost:8080/",
     "height": 469
    },
    "executionInfo": {
     "elapsed": 403,
     "status": "ok",
     "timestamp": 1704816138555,
     "user": {
      "displayName": "Linda Cremonesi",
      "userId": "14767435952218470727"
     },
     "user_tz": 0
    },
    "id": "38vKXqDL_GNw",
    "outputId": "02e5f75e-ac9a-4837-b6f1-15377d0a1486"
   },
   "outputs": [],
   "source": []
  },
  {
   "cell_type": "markdown",
   "metadata": {
    "id": "R2LnzkSM_GNw"
   },
   "source": [
    "### Scatter Plots"
   ]
  },
  {
   "cell_type": "code",
   "execution_count": null,
   "metadata": {
    "colab": {
     "base_uri": "https://localhost:8080/",
     "height": 466
    },
    "executionInfo": {
     "elapsed": 526,
     "status": "ok",
     "timestamp": 1704816139075,
     "user": {
      "displayName": "Linda Cremonesi",
      "userId": "14767435952218470727"
     },
     "user_tz": 0
    },
    "id": "COaXjrD6_GNw",
    "outputId": "d55f457a-e763-461f-8707-b190f6e37a70"
   },
   "outputs": [],
   "source": [
    "data_pandas.plot(kind=\"scatter\",x=\"Age\",y=\"Pets\",alpha=1)\n",
    "#alpha controls the opacity of data points.\n",
    "#For larger amounts of data, setting alpha to a lower value can make the plot easier to interpret"
   ]
  },
  {
   "cell_type": "markdown",
   "metadata": {
    "id": "f4nyoQm1_GNw"
   },
   "source": [
    "A **scatter_matrix** displays all possible combinations of the scatter plots, as well as the various histograms. Run the cell below to see what this looks like for our data. Just like with any pandas plot, this can also be filtered."
   ]
  },
  {
   "cell_type": "code",
   "execution_count": null,
   "metadata": {
    "colab": {
     "base_uri": "https://localhost:8080/",
     "height": 519
    },
    "executionInfo": {
     "elapsed": 671,
     "status": "ok",
     "timestamp": 1704816139741,
     "user": {
      "displayName": "Linda Cremonesi",
      "userId": "14767435952218470727"
     },
     "user_tz": 0
    },
    "id": "MtaPRtLd_GNx",
    "outputId": "bdd40b6c-7ae8-47ff-aad4-072febfb3e2b"
   },
   "outputs": [],
   "source": [
    "import pandas.plotting as pdp\n",
    "pdp.scatter_matrix(data_pandas)"
   ]
  },
  {
   "cell_type": "markdown",
   "metadata": {},
   "source": [
    "**Plot** a scatter matrix for anyone aged 20 and above."
   ]
  },
  {
   "cell_type": "code",
   "execution_count": null,
   "metadata": {
    "colab": {
     "base_uri": "https://localhost:8080/",
     "height": 519
    },
    "executionInfo": {
     "elapsed": 839,
     "status": "ok",
     "timestamp": 1704816140575,
     "user": {
      "displayName": "Linda Cremonesi",
      "userId": "14767435952218470727"
     },
     "user_tz": 0
    },
    "id": "lFf3Kj4f_GNx",
    "outputId": "54ff2b68-2337-4ebc-c7ca-283a7fc35e45"
   },
   "outputs": [],
   "source": []
  },
  {
   "cell_type": "markdown",
   "metadata": {
    "id": "PkSn4oqQ_GNx"
   },
   "source": [
    "Further example of plots can be found [here](https://pandas.pydata.org/docs/user_guide/visualization.html)\n",
    "\n",
    "<div style=\"background-color:#C2F5DD\">\n",
    "\n",
    "## Exercise 2\n",
    "\n",
    "The purpose of this exercise is to get you to play around with pandas DataFrame and to consolidate the knowledge that you already have.\n",
    "\n",
    "* Generate 5 samples with 100,000 correlated random numbers distributed according to Gaussian distributions (you can choose whatever covariance matrix that you like, although you can start with an identity matrix for simplicity). You may want to use the `numpy` function `random.multivariate_normal` for this purpose.\n",
    "\n",
    "* Read these into a DataFrame\n",
    "\n",
    "* Create a 6th column in your DataFrame: the values should be the second column plus the fourth column\n",
    "\n",
    "* Verify that the covariance (and correlation) matrices are what you would expect\n",
    "\n",
    "* Display your data"
   ]
  },
  {
   "cell_type": "code",
   "execution_count": null,
   "metadata": {},
   "outputs": [],
   "source": []
  },
  {
   "cell_type": "code",
   "execution_count": null,
   "metadata": {},
   "outputs": [],
   "source": []
  },
  {
   "cell_type": "code",
   "execution_count": null,
   "metadata": {},
   "outputs": [],
   "source": []
  },
  {
   "cell_type": "code",
   "execution_count": null,
   "metadata": {},
   "outputs": [],
   "source": []
  },
  {
   "cell_type": "markdown",
   "metadata": {
    "id": "gHEgEBJp_GNx"
   },
   "source": [
    "<hr style=\"border:2px solid gray\">\n",
    "\n",
    "## Section Five: Reading Data from Files  [^](#index) <a id='files'></a>\n",
    "\n",
    "You can read data from all sorts of files (csv, excel, etc) into a DataFrames. Sometimes (especially with csv) you have to be careful with the separator"
   ]
  },
  {
   "cell_type": "code",
   "execution_count": null,
   "metadata": {
    "id": "PzZV5GlruKFl"
   },
   "outputs": [],
   "source": [
    "df_pound_dollar=pd.read_csv(r'pound-dollar-exchange-rate-historical-chart.csv')\n",
    "#'r' refers to raw string, it is required to read in the file with no bugs"
   ]
  },
  {
   "cell_type": "code",
   "execution_count": null,
   "metadata": {
    "colab": {
     "base_uri": "https://localhost:8080/",
     "height": 423
    },
    "executionInfo": {
     "elapsed": 43,
     "status": "ok",
     "timestamp": 1704816142178,
     "user": {
      "displayName": "Linda Cremonesi",
      "userId": "14767435952218470727"
     },
     "user_tz": 0
    },
    "id": "ImowMrVt_GNx",
    "outputId": "b4b801ec-b57f-4664-84bf-3c2eff186bff"
   },
   "outputs": [],
   "source": [
    "display(df_pound_dollar)"
   ]
  },
  {
   "cell_type": "markdown",
   "metadata": {
    "id": "HSqeE0ic_GNx"
   },
   "source": [
    "This will display a lot of information. We can reduce this display and make the data easier to interpret at a glance using <span style=\"color:blue\">.head()</span> and <span style=\"color:blue\">.head()</span>. To get a top level summary of the data, we can use the <span style=\"color:blue\">.info()</span> command. For example:"
   ]
  },
  {
   "cell_type": "code",
   "execution_count": null,
   "metadata": {
    "colab": {
     "base_uri": "https://localhost:8080/",
     "height": 432
    },
    "executionInfo": {
     "elapsed": 35,
     "status": "ok",
     "timestamp": 1704816142178,
     "user": {
      "displayName": "Linda Cremonesi",
      "userId": "14767435952218470727"
     },
     "user_tz": 0
    },
    "id": "w2y60mSw_GNx",
    "outputId": "92311c9f-6088-465a-e08c-2eae00f60762"
   },
   "outputs": [],
   "source": [
    "display(df_pound_dollar.head())\n",
    "\n",
    "print ('\\n And the summary of the data: \\n')\n",
    "\n",
    "display(df_pound_dollar.info())"
   ]
  },
  {
   "cell_type": "markdown",
   "metadata": {
    "id": "mLEIgXwA_GNx"
   },
   "source": [
    "<div style=\"background-color:#C2F5DD\">\n",
    "\n",
    "## Exercise 3\n",
    "\n",
    "Let's analyse some data from the euro/dollar and pound/dollar exchange rates.\n",
    "1) Read the euro-dollar exchange rate file into a dataframe and merge it with the pound-dollar dataframe. You may want to use the `panda` `rename` function to rename the columns.\n",
    "2) Check the dataset for `NaN` and drop any instances of `NaN`.\n",
    "3) Plot histograms and timeseries from the dataframe\n",
    "4) Calculate mean, variance, covariance, and correlation\n",
    "5) Plot a scatter plot of the euro-dollar vs the pound-dollar exchange. Use the slice function to try to isolate one of two populations (*hint: the ideal index will be between 2000 and 3000*)\n",
    "6) Calculate the coefficients for the linear regression $y=mx+q$ for the three samples (the total sample, and the two samples found with the split in point 5), and plot them on top of a scatter graph\n",
    "$$ m = \\dfrac{\\sigma_{xy}}{\\sigma_x^2} $$\n",
    "$$ q = \\overline{y}-m\\overline{x} $$\n",
    "You may want to use `stats.linregress` from `scipy` to calculate the coefficients.\n",
    "8) Write a sentence of your interpretation of the graph."
   ]
  },
  {
   "cell_type": "code",
   "execution_count": null,
   "metadata": {},
   "outputs": [],
   "source": []
  },
  {
   "cell_type": "code",
   "execution_count": null,
   "metadata": {},
   "outputs": [],
   "source": []
  },
  {
   "cell_type": "code",
   "execution_count": null,
   "metadata": {},
   "outputs": [],
   "source": []
  },
  {
   "cell_type": "code",
   "execution_count": null,
   "metadata": {},
   "outputs": [],
   "source": []
  },
  {
   "cell_type": "code",
   "execution_count": null,
   "metadata": {},
   "outputs": [],
   "source": []
  },
  {
   "cell_type": "code",
   "execution_count": null,
   "metadata": {},
   "outputs": [],
   "source": []
  },
  {
   "cell_type": "code",
   "execution_count": null,
   "metadata": {},
   "outputs": [],
   "source": []
  },
  {
   "cell_type": "code",
   "execution_count": null,
   "metadata": {},
   "outputs": [],
   "source": []
  }
 ],
 "metadata": {
  "colab": {
   "authorship_tag": "ABX9TyNgMFm+9Q2HCSP/Xsia0XJd",
   "provenance": []
  },
  "kernelspec": {
   "display_name": "Python 3 (ipykernel)",
   "language": "python",
   "name": "python3"
  },
  "language_info": {
   "codemirror_mode": {
    "name": "ipython",
    "version": 3
   },
   "file_extension": ".py",
   "mimetype": "text/x-python",
   "name": "python",
   "nbconvert_exporter": "python",
   "pygments_lexer": "ipython3",
   "version": "3.11.7"
  }
 },
 "nbformat": 4,
 "nbformat_minor": 4
}
